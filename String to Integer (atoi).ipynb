{
 "cells": [
  {
   "cell_type": "code",
   "execution_count": null,
   "id": "5769841a",
   "metadata": {
    "vscode": {
     "languageId": "plaintext"
    }
   },
   "outputs": [],
   "source": [
    "# String to Integer (atoi)\n",
    "class Solution:\n",
    "    def myAtoi(self, s: str) -> int:\n",
    "        s = s.strip() \n",
    "        if not s:\n",
    "            return 0\n",
    "\n",
    "        sign = 1\n",
    "        result = 0\n",
    "        i = 0\n",
    "\n",
    "    \n",
    "        if s[0] == '-' or s[0] == '+':\n",
    "            if s[0] == '-':\n",
    "                sign = -1\n",
    "            i += 1\n",
    "\n",
    "   \n",
    "        while i < len(s) and s[i].isdigit():\n",
    "            result = result * 10 + int(s[i])\n",
    "            i += 1\n",
    "\n",
    "        result *= sign\n",
    "\n",
    "      \n",
    "        INT_MIN = -2**31\n",
    "        INT_MAX = 2**31 - 1\n",
    "        if result < INT_MIN:\n",
    "            return INT_MIN\n",
    "        if result > INT_MAX:\n",
    "            return INT_MAX\n",
    "        return result\n"
   ]
  }
 ],
 "metadata": {
  "kernelspec": {
   "display_name": "Python 3 (ipykernel)",
   "language": "python",
   "name": "python3"
  },
  "language_info": {
   "codemirror_mode": {
    "name": "ipython",
    "version": 3
   },
   "file_extension": ".py",
   "mimetype": "text/x-python",
   "name": "python",
   "nbconvert_exporter": "python",
   "pygments_lexer": "ipython3",
   "version": "3.12.4"
  }
 },
 "nbformat": 4,
 "nbformat_minor": 5
}
